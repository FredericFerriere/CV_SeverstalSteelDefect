{
 "cells": [
  {
   "cell_type": "code",
   "execution_count": 1,
   "metadata": {},
   "outputs": [],
   "source": [
    "import os\n",
    "import random\n",
    "import time\n",
    "import numpy as np\n",
    "import pandas as pd\n",
    "\n",
    "import torch\n",
    "import torch.nn as nn\n",
    "import torch.optim as optim\n",
    "import torchvision.transforms as T\n",
    "import torch.nn.functional as F\n",
    "from torchvision.transforms import ToTensor\n",
    "from torchvision.models.vgg import VGG\n",
    "from torchvision import models\n",
    "\n",
    "from PIL import Image\n",
    "from sklearn.model_selection import train_test_split\n",
    "import matplotlib.pyplot as plt\n",
    "\n",
    "import matplotlib.image as mpimg\n",
    "import csv"
   ]
  },
  {
   "cell_type": "code",
   "execution_count": 2,
   "metadata": {},
   "outputs": [],
   "source": [
    "H = 256  # image height\n",
    "W = 1600 # image width\n",
    "numDefectClasses = 4\n",
    "\n",
    "train_img_path = 'train_images/'\n",
    "test_img_path = 'test_images/'\n",
    "train_image_list = os.listdir(train_img_path)"
   ]
  },
  {
   "cell_type": "code",
   "execution_count": 3,
   "metadata": {},
   "outputs": [],
   "source": [
    "#https://github.com/pochih/FCN-pytorch/blob/master/python/fcn.py\n",
    "\n",
    "class FCN32s(nn.Module):\n",
    "\n",
    "    def __init__(self, pretrained_net, n_class):\n",
    "        super().__init__()\n",
    "        self.n_class = n_class\n",
    "        self.pretrained_net = pretrained_net\n",
    "        self.relu    = nn.ReLU(inplace=True)\n",
    "        self.deconv1 = nn.ConvTranspose2d(512, 512, kernel_size=3, stride=2, padding=1, dilation=1, output_padding=1)\n",
    "        self.bn1     = nn.BatchNorm2d(512)\n",
    "        self.deconv2 = nn.ConvTranspose2d(512, 256, kernel_size=3, stride=2, padding=1, dilation=1, output_padding=1)\n",
    "        self.bn2     = nn.BatchNorm2d(256)\n",
    "        self.deconv3 = nn.ConvTranspose2d(256, 128, kernel_size=3, stride=2, padding=1, dilation=1, output_padding=1)\n",
    "        self.bn3     = nn.BatchNorm2d(128)\n",
    "        self.deconv4 = nn.ConvTranspose2d(128, 64, kernel_size=3, stride=2, padding=1, dilation=1, output_padding=1)\n",
    "        self.bn4     = nn.BatchNorm2d(64)\n",
    "        self.deconv5 = nn.ConvTranspose2d(64, 32, kernel_size=3, stride=2, padding=1, dilation=1, output_padding=1)\n",
    "        self.bn5     = nn.BatchNorm2d(32)\n",
    "        self.classifier = nn.Conv2d(32, n_class, kernel_size=1)\n",
    "\n",
    "    def forward(self, x):\n",
    "        output = self.pretrained_net(x)\n",
    "        x5 = output['x5']  # size=(N, 512, x.H/32, x.W/32)\n",
    "\n",
    "        score = self.bn1(self.relu(self.deconv1(x5)))     # size=(N, 512, x.H/16, x.W/16)\n",
    "        score = self.bn2(self.relu(self.deconv2(score)))  # size=(N, 256, x.H/8, x.W/8)\n",
    "        score = self.bn3(self.relu(self.deconv3(score)))  # size=(N, 128, x.H/4, x.W/4)\n",
    "        score = self.bn4(self.relu(self.deconv4(score)))  # size=(N, 64, x.H/2, x.W/2)\n",
    "        score = self.bn5(self.relu(self.deconv5(score)))  # size=(N, 32, x.H, x.W)\n",
    "        score = self.classifier(score)                    # size=(N, n_class, x.H/1, x.W/1)\n",
    "\n",
    "        return score  # size=(N, n_class, x.H/1, x.W/1)\n",
    "\n",
    "\n",
    "class VGGNet(VGG):\n",
    "    def __init__(self, pretrained=True, model='vgg11', requires_grad=True, remove_fc=True, show_params=False):\n",
    "        super().__init__(make_layers(cfg[model]))\n",
    "        self.ranges = ranges[model]\n",
    "\n",
    "        if pretrained:\n",
    "            modName = 'vgg11_pretrained.pth'\n",
    "            self.load_state_dict(torch.load(modName))\n",
    "\n",
    "        if not requires_grad:\n",
    "            for param in super().parameters():\n",
    "                param.requires_grad = False\n",
    "\n",
    "        if remove_fc:  # delete redundant fully-connected layer params, can save memory\n",
    "            del self.classifier\n",
    "\n",
    "        if show_params:\n",
    "            for name, param in self.named_parameters():\n",
    "                print(name, param.size())\n",
    "\n",
    "    def forward(self, x):\n",
    "        output = {}\n",
    "\n",
    "        # get the output of each maxpooling layer (5 maxpool in VGG net)\n",
    "        for idx in range(len(self.ranges)):\n",
    "            for layer in range(self.ranges[idx][0], self.ranges[idx][1]):\n",
    "                x = self.features[layer](x)\n",
    "            output[\"x%d\"%(idx+1)] = x\n",
    "\n",
    "        return output\n",
    "\n",
    "\n",
    "ranges = {\n",
    "    'vgg11': ((0, 3), (3, 6),  (6, 11),  (11, 16), (16, 21)),\n",
    "    'vgg13': ((0, 5), (5, 10), (10, 15), (15, 20), (20, 25)),\n",
    "    'vgg16': ((0, 5), (5, 10), (10, 17), (17, 24), (24, 31)),\n",
    "    'vgg19': ((0, 5), (5, 10), (10, 19), (19, 28), (28, 37))\n",
    "}\n",
    "\n",
    "# cropped version from https://github.com/pytorch/vision/blob/master/torchvision/models/vgg.py\n",
    "cfg = {\n",
    "    'vgg11': [64, 'M', 128, 'M', 256, 256, 'M', 512, 512, 'M', 512, 512, 'M'],\n",
    "    'vgg13': [64, 64, 'M', 128, 128, 'M', 256, 256, 'M', 512, 512, 'M', 512, 512, 'M'],\n",
    "    'vgg16': [64, 64, 'M', 128, 128, 'M', 256, 256, 256, 'M', 512, 512, 512, 'M', 512, 512, 512, 'M'],\n",
    "    'vgg19': [64, 64, 'M', 128, 128, 'M', 256, 256, 256, 256, 'M', 512, 512, 512, 512, 'M', 512, 512, 512, 512, 'M'],\n",
    "}\n",
    "\n",
    "def make_layers(cfg, batch_norm=False):\n",
    "    layers = []\n",
    "    in_channels = 3\n",
    "    for v in cfg:\n",
    "        if v == 'M':\n",
    "            layers += [nn.MaxPool2d(kernel_size=2, stride=2)]\n",
    "        else:\n",
    "            conv2d = nn.Conv2d(in_channels, v, kernel_size=3, padding=1)\n",
    "            if batch_norm:\n",
    "                layers += [conv2d, nn.BatchNorm2d(v), nn.ReLU(inplace=True)]\n",
    "            else:\n",
    "                layers += [conv2d, nn.ReLU(inplace=True)]\n",
    "            in_channels = v\n",
    "    return nn.Sequential(*layers)\n",
    "\n",
    "vgg_model = VGGNet(requires_grad=True)"
   ]
  },
  {
   "cell_type": "code",
   "execution_count": 4,
   "metadata": {},
   "outputs": [],
   "source": [
    "def imageToTensor(imgPath):\n",
    "    image = Image.open(imgPath)\n",
    "    image = ToTensor()(image)\n",
    "    return image\n",
    "\n",
    "def imageToTensorNormalised(imgPath):\n",
    "    image = Image.open(imgPath)\n",
    "    image = ToTensor()(image)\n",
    "    return (image-normMean)/normStd"
   ]
  },
  {
   "cell_type": "markdown",
   "metadata": {},
   "source": [
    "# calculation of mean and standard deviation for training set"
   ]
  },
  {
   "cell_type": "code",
   "execution_count": 5,
   "metadata": {},
   "outputs": [],
   "source": [
    "normMean = 0\n",
    "normStd = 0\n",
    "\n",
    "sampSize = 1000\n",
    "img_list = random.sample(train_image_list, sampSize)\n",
    "\n",
    "for el in img_list:\n",
    "    img = imageToTensor(os.path.join(train_img_path, el))\n",
    "    normMean+= img.mean()\n",
    "    normStd+= (img**2).mean()\n",
    "normMean/=sampSize\n",
    "normStd/=sampSize\n",
    "\n",
    "normStd = torch.sqrt(normStd - normMean**2)"
   ]
  },
  {
   "cell_type": "code",
   "execution_count": 6,
   "metadata": {},
   "outputs": [
    {
     "name": "stdout",
     "output_type": "stream",
     "text": [
      "0.33671876788139343\n",
      "0.19835540652275085\n"
     ]
    }
   ],
   "source": [
    "print(normMean.item())\n",
    "print(normStd.item())"
   ]
  },
  {
   "cell_type": "code",
   "execution_count": 7,
   "metadata": {},
   "outputs": [],
   "source": [
    "def getMaskFromList(pixelList, defectClass):\n",
    "    # pixelList: a sequence p1 l1 p2 l2 ... pn ln\n",
    "    # where pi represents a pixel number and li the number of pixels from pi\n",
    "    # pixels are numbered top to bottom, left to right\n",
    "    # ie start at top/left and start numbering down\n",
    "    # defectClass: integer between 1 and 4\n",
    "    \n",
    "    myMaskVec = torch.zeros(H * W, dtype=torch.long)\n",
    "    \n",
    "    pixList = pixelList.split(' ')\n",
    "    for i in range(len(pixList)//2):\n",
    "        pixPos = int(pixList[2*i])\n",
    "        seqLength = int(pixList[2*i+1])\n",
    "        myMaskVec[pixPos-1:pixPos-1+seqLength] = 1\n",
    "\n",
    "    myMaskMat = myMaskVec.view([W, H]).t_()\n",
    "    \n",
    "    return int(defectClass) * myMaskMat    "
   ]
  },
  {
   "cell_type": "code",
   "execution_count": 8,
   "metadata": {},
   "outputs": [],
   "source": [
    "class imageDataset(torch.utils.data.Dataset):\n",
    "    # the dataset is a list where each element is a list [tensor, pixelLabel]\n",
    "    # tensor is 3 x 256 x 1600\n",
    "    # pixelLabel is 256 x 1600 numpy array where each element is\n",
    "    # an integer between 0 and 4\n",
    "    # 0 = no defect\n",
    "    # i = defect of class i for i in 1, 4\n",
    "    def __init__(self, imgPath, defect_df, cleanSet, singleDefectSet, multiDefectSet):\n",
    "        self.mList = []\n",
    "        self.imgPath = imgPath\n",
    "        \n",
    "        for el in cleanSet:\n",
    "            pixList = {}\n",
    "            self.mList.append([el, pixList])\n",
    "            \n",
    "        for el in singleDefectSet:\n",
    "            defects = defect_df[defect_df['ImageId'] == el]\n",
    "            pixList = {}\n",
    "            for _, row in defects.iterrows():\n",
    "                classID = str(row['ClassId'])\n",
    "                pixList[classID] = row['EncodedPixels']\n",
    "            self.mList.append([el, pixList])\n",
    "            \n",
    "        for el in multiDefectSet:\n",
    "            defects = defect_df[defect_df['ImageId'] == el]\n",
    "            pixList = {}\n",
    "            for _, row in defects.iterrows():\n",
    "                classID = str(row['ClassId'])\n",
    "                pixList[classID] = row['EncodedPixels']\n",
    "            self.mList.append([el, pixList])\n",
    "\n",
    "    def __len__(self):\n",
    "        return len(self.mList)\n",
    "\n",
    "    def __getitem__(self, index):\n",
    "        myItem = self.mList[index]\n",
    "        imgName = myItem[0]\n",
    "        pixList = myItem[1]\n",
    "        img = imageToTensorNormalised(os.path.join(self.imgPath, imgName))\n",
    "        semMask = torch.zeros([H, W], dtype=torch.long)\n",
    "        for k, v in pixList.items():\n",
    "            semMask+=getMaskFromList(v, int(k))\n",
    "        return (img, semMask)\n",
    "    \n",
    "    def pixelPercentage(self):\n",
    "        # returns the percentage of pixels from each category\n",
    "        res = torch.zeros(numDefectClasses+1)\n",
    "        myNum = len(self.mList) * H * W\n",
    "        for el in self.mList:\n",
    "            pixList = el[1]\n",
    "            for k, v in pixList.items():\n",
    "                catList = v.split(' ')\n",
    "                for i in range(len(catList)//2):\n",
    "                    seqLength = int(catList[2*i+1])\n",
    "                    res[int(k)]+=seqLength/myNum\n",
    "        res[0] = 1.-res[1:].sum()\n",
    "        return res            "
   ]
  },
  {
   "cell_type": "code",
   "execution_count": 9,
   "metadata": {},
   "outputs": [],
   "source": [
    "def count_parameters(model):\n",
    "    return sum(p.numel() for p in model.parameters() if p.requires_grad)"
   ]
  },
  {
   "cell_type": "code",
   "execution_count": 10,
   "metadata": {},
   "outputs": [],
   "source": [
    "train_defect_df = pd.read_csv('train.csv')\n",
    "one_defect_df = train_defect_df.groupby('ImageId').filter(lambda x: len(x)<2)\n",
    "multi_defect_df = train_defect_df.groupby('ImageId').filter(lambda x: len(x)>1)"
   ]
  },
  {
   "cell_type": "markdown",
   "metadata": {},
   "source": [
    "From exploratory analysis, we know the dataset is unbalanced with very few class 4 defects, so we'll use stratified sampling for our train/validation sets.  \n",
    "Strategy\n",
    "* get 3 separate sets of files: no defect, 1 defect only and multiple defects\n",
    "* use stratified sampling for single defect so that each class is properly represented, use standard sampling for the other 2 sets\n",
    "* We obtain 3 sublists for training and by set difference, 3 sublists for validation\n",
    "* We pass the 3 lists to the dataset constructor to get the data (imageID + tensor data)"
   ]
  },
  {
   "cell_type": "code",
   "execution_count": 11,
   "metadata": {},
   "outputs": [],
   "source": [
    "data_all = set(train_image_list)\n",
    "data_single = set(one_defect_df['ImageId'])\n",
    "data_multi = set(multi_defect_df['ImageId'].unique())\n",
    "data_clean = data_all - data_single.union(data_multi)\n",
    "trainSize = 0.8\n",
    "testSize = 0.1\n",
    "validationSize = 1 - trainSize - testSize\n",
    "\n",
    "n_train_clean = int(trainSize * len(data_clean))\n",
    "n_train_single = int(trainSize * len(data_single))\n",
    "n_train_multi = int(trainSize * len(data_multi))\n",
    "\n",
    "n_test_clean = int(testSize * len(data_clean))\n",
    "n_test_single = int(testSize * len(data_single))\n",
    "n_test_multi = int(testSize * len(data_multi))\n",
    "\n",
    "train_clean = set(random.sample(data_clean, n_train_clean))\n",
    "non_train_clean = data_clean - train_clean\n",
    "test_clean = set(random.sample(non_train_clean, n_test_clean))\n",
    "validation_clean = non_train_clean - test_clean\n",
    "\n",
    "train_multi = set(random.sample(data_multi, n_train_multi))\n",
    "non_train_multi = data_multi - train_multi\n",
    "test_multi = set(random.sample(non_train_multi, n_test_multi))\n",
    "validation_multi = non_train_multi - test_multi\n",
    "\n",
    "single_train_df, single_non_train_df = train_test_split(one_defect_df, test_size = 1.-trainSize, stratify=one_defect_df['ClassId'])\n",
    "train_single = set(single_train_df['ImageId'])\n",
    "single_test_df, single_validation_df = train_test_split(single_non_train_df, test_size = validationSize/(validationSize+testSize), stratify=single_non_train_df['ClassId'])\n",
    "\n",
    "test_single = set(single_test_df['ImageId'])\n",
    "validation_single = set(single_validation_df['ImageId'])\n"
   ]
  },
  {
   "cell_type": "code",
   "execution_count": 12,
   "metadata": {},
   "outputs": [],
   "source": [
    "# For testing purposes, work on small universe:\n",
    "# This cell can be deleted for actual run of the model\n",
    "train_size = 40 #480\n",
    "train_clean = set(list(train_clean)[:train_size])\n",
    "train_single = set(list(train_single)[:train_size])\n",
    "train_multi = set(list(train_multi)[:train_size])\n",
    "\n",
    "test_size = 4 #80\n",
    "test_clean = set(list(test_clean)[:test_size])\n",
    "test_single = set(list(test_single)[:test_size])\n",
    "test_multi = set(list(test_multi)[:test_size])\n",
    "\n",
    "validation_size = 4 #80\n",
    "validation_clean = set(list(validation_clean)[:validation_size])\n",
    "validation_single = set(list(validation_single)[:validation_size])\n",
    "validation_multi = set(list(validation_multi)[:validation_size])"
   ]
  },
  {
   "cell_type": "code",
   "execution_count": 14,
   "metadata": {},
   "outputs": [],
   "source": [
    "train_ds = imageDataset(train_img_path, train_defect_df, train_clean, train_single, train_multi)\n",
    "test_ds = imageDataset(train_img_path, train_defect_df, test_clean, test_single, test_multi)\n",
    "validation_ds = imageDataset(train_img_path, train_defect_df, validation_clean, validation_single, validation_multi)"
   ]
  },
  {
   "cell_type": "code",
   "execution_count": 15,
   "metadata": {},
   "outputs": [
    {
     "name": "stdout",
     "output_type": "stream",
     "text": [
      "120\n",
      "12\n",
      "12\n"
     ]
    }
   ],
   "source": [
    "print(len(train_ds))\n",
    "print(len(test_ds))\n",
    "print(len(validation_ds))"
   ]
  },
  {
   "cell_type": "code",
   "execution_count": 16,
   "metadata": {},
   "outputs": [],
   "source": [
    "rundevice = \"cuda:0\"\n",
    "#rundevice = \"cpu\""
   ]
  },
  {
   "cell_type": "code",
   "execution_count": 17,
   "metadata": {},
   "outputs": [
    {
     "name": "stdout",
     "output_type": "stream",
     "text": [
      "tensor([9.4856e-01, 1.3546e-03, 5.6974e-04, 2.9691e-02, 1.9828e-02])\n",
      "tensor([8.9266e-01, 2.6347e-04, 0.0000e+00, 7.6746e-02, 3.0329e-02])\n",
      "tensor([0.9444, 0.0019, 0.0017, 0.0204, 0.0317])\n"
     ]
    }
   ],
   "source": [
    "print(train_ds.pixelPercentage())\n",
    "print(test_ds.pixelPercentage())\n",
    "print(validation_ds.pixelPercentage())"
   ]
  },
  {
   "cell_type": "code",
   "execution_count": 18,
   "metadata": {},
   "outputs": [],
   "source": [
    "def cross_entropy_loss_batch(output, target, rundevice):\n",
    "    # wrapper for cross entropy\n",
    "    fun = torch.nn.functional.cross_entropy\n",
    "    return fun(output, target)\n",
    "\n",
    "def dice_accuracy_batch(output, target, rundevice):\n",
    "    # output: N x C x H x W\n",
    "    # target: N x H x W\n",
    "    \n",
    "    eps = 1e-2\n",
    "    \n",
    "    # convert target to one hot encoding to get N x C x H x W format\n",
    "    t = F.one_hot(target, num_classes=numDefectClasses+1).permute(0,3,1,2)\n",
    "    o = F.softmax(output, dim = 1)\n",
    "    \n",
    "    ot = o * t\n",
    "    \n",
    "    # sum over dimensions 2 and 3 ==> N x C output\n",
    "    res = (2. * ot.sum(3).sum(2)+eps) / (o.sum(3).sum(2) + t.sum(3).sum(2) + eps)\n",
    "    \n",
    "    return res.mean()\n",
    "\n",
    "def dice_accuracy_batch_no_bg(output, target, rundevice):\n",
    "    # output: N x C x H x W\n",
    "    # target: N x H x W\n",
    "    \n",
    "    eps = 1e-2\n",
    "    \n",
    "    # convert target to one hot encoding to get N x C x H x W format\n",
    "    t = F.one_hot(target, num_classes=numDefectClasses+1).permute(0,3,1,2)\n",
    "    o = F.softmax(output, dim = 1)\n",
    "    \n",
    "    # added for exact calculation\n",
    "    o = torch.argmax(o, dim = 1)\n",
    "    o = F.one_hot(o, num_classes=numDefectClasses+1).permute(0,3,1,2)\n",
    "    \n",
    "    ot = o * t\n",
    "    \n",
    "    # sum over dimensions 2 and 3 ==> N x C output\n",
    "    res = (2. * ot.sum(3).sum(2)+eps) / (o.sum(3).sum(2) + t.sum(3).sum(2) + eps)\n",
    "    \n",
    "    return res[:,1:].mean()\n",
    "\n",
    "def dice_loss_batch(output, target, rundevice):\n",
    "    return 1.-dice_accuracy_batch(output, target, rundevice)"
   ]
  },
  {
   "cell_type": "code",
   "execution_count": 19,
   "metadata": {},
   "outputs": [],
   "source": [
    "def lossCalculator(loader, model, lossFun, rundevice):\n",
    "    correct = 0\n",
    "    total = 0\n",
    "    \n",
    "    with torch.no_grad():\n",
    "        for data in loader:\n",
    "            images, labels = data\n",
    "\n",
    "            images = images.to(rundevice)\n",
    "            labels = labels.to(rundevice)\n",
    "            outputs = model(images)\n",
    "\n",
    "            correct+=lossFun(outputs, labels, rundevice)*labels.size(0)\n",
    "            total+=labels.size(0)\n",
    "    res = 100 * correct.item() / total\n",
    "    return res"
   ]
  },
  {
   "cell_type": "code",
   "execution_count": 20,
   "metadata": {},
   "outputs": [],
   "source": [
    "def calibrateModel(model, criterion, optimizer, numEpochs, rundevice):\n",
    "    updatePerEpoch = 1\n",
    "    multiple = (len(train_ds)/batch_size)/updatePerEpoch\n",
    "    CE_lossHistory = []\n",
    "    Dice_lossHistory = []\n",
    "    \n",
    "    for epoch in range(numEpochs):  # loop over the dataset multiple times\n",
    "        running_loss = 0.0\n",
    "        print('start epoch: {}'.format(epoch+1))\n",
    "        batchCount = 1\n",
    "        for i, data in enumerate(train_loader, 0):\n",
    "            # get the inputs; data is a list of [inputs, labels]\n",
    "            inputs, labels = data\n",
    "            inputs = inputs.requires_grad_().to(rundevice)\n",
    "            labels = labels.to(rundevice)\n",
    "\n",
    "            model.zero_grad()\n",
    "            y_pred = model.forward(inputs)\n",
    "\n",
    "            loss = criterion(y_pred, labels, rundevice)\n",
    "            loss.backward()\n",
    "            optimizer.step()\n",
    "\n",
    "            # print statistics\n",
    "            running_loss += loss.item()\n",
    "            if (i+1) % multiple == 0:\n",
    "                running_loss = 0.0\n",
    "            batchCount+=1\n",
    "        CE_Loss = lossCalculator(test_loader, model, cross_entropy_loss_batch, rundevice)\n",
    "        Dice_Loss = lossCalculator(test_loader, model, dice_loss_batch, rundevice)\n",
    "        print('end epoch: {}; CE: {:.1f}; Dice: {:.1f}'.format(epoch+1, CE_Loss, Dice_Loss))\n",
    "        CE_lossHistory.append(CE_Loss)\n",
    "        Dice_lossHistory.append(Dice_Loss)\n",
    "        \n",
    "    print('Finished Training')\n",
    "    return CE_lossHistory, Dice_lossHistory"
   ]
  },
  {
   "cell_type": "code",
   "execution_count": 21,
   "metadata": {},
   "outputs": [],
   "source": [
    "batch_size = 3\n",
    "train_loader = torch.utils.data.DataLoader(train_ds, batch_size=batch_size,\n",
    "                                          shuffle=True, num_workers=0)\n",
    "test_loader = torch.utils.data.DataLoader(test_ds, batch_size=batch_size,\n",
    "                                          shuffle=False, num_workers=0)\n",
    "validation_loader = torch.utils.data.DataLoader(validation_ds, batch_size=batch_size,\n",
    "                                          shuffle=False, num_workers=0)"
   ]
  },
  {
   "cell_type": "code",
   "execution_count": 22,
   "metadata": {},
   "outputs": [],
   "source": [
    "def runModelTesting(modelName, model, optimizer, numEpochs, loss1Name, loss2Name, rundevice, lossDict):\n",
    "    fullModelName = modelName + '_' + loss1Name + '_' + loss2Name\n",
    "    curDirs = os.listdir()\n",
    "    if modelName not in curDirs:\n",
    "        os.mkdir(modelName)\n",
    "    CE_history=[]\n",
    "    Dice_history = []\n",
    "    \n",
    "    loss1 = lossDict[loss1Name]\n",
    "    loss2 = lossDict[loss2Name]\n",
    "    \n",
    "    # first run with loss1\n",
    "    CE_run, Dice_run = calibrateModel(model, loss1, optimizer, numEpochs, rundevice)\n",
    "    CE_history = CE_history + CE_run\n",
    "    Dice_history = Dice_history + Dice_run\n",
    "    \n",
    "    if loss1Name!=loss2Name:\n",
    "        optimizer = optim.SGD(model.parameters(), lr=5e-3, momentum=0.7)\n",
    "        \n",
    "    # second run with loss2\n",
    "    CE_run, Dice_run = calibrateModel(model, loss2, optimizer, numEpochs, rundevice)\n",
    "    CE_history = CE_history + CE_run\n",
    "    Dice_history = Dice_history + Dice_run\n",
    "    \n",
    "    # save loss functions to csv file\n",
    "    with open(os.path.join(modelName, fullModelName + '.csv'), 'w+') as f:\n",
    "        f.write('Iteration,CrossEntropy, Dice\\n')\n",
    "        for i in range(len(CE_history)):\n",
    "            f.write('{},{},{}\\n'.format(i+1, CE_history[i], Dice_history[i]))\n",
    "    \n",
    "    torch.save(model.state_dict(), os.path.join(modelName, fullModelName + '.pth'))"
   ]
  },
  {
   "cell_type": "code",
   "execution_count": 24,
   "metadata": {},
   "outputs": [],
   "source": [
    "lossDict = {'CE': cross_entropy_loss_batch, 'Dice': dice_loss_batch}\n",
    "\n",
    "rootModelName = 'test_norm'"
   ]
  },
  {
   "cell_type": "code",
   "execution_count": 25,
   "metadata": {},
   "outputs": [
    {
     "name": "stdout",
     "output_type": "stream",
     "text": [
      "start epoch: 1\n",
      "end epoch: 1; CE: 121.2; Dice: 88.2\n",
      "start epoch: 2\n",
      "end epoch: 2; CE: 88.3; Dice: 85.4\n",
      "start epoch: 3\n",
      "end epoch: 3; CE: 68.0; Dice: 83.4\n",
      "Finished Training\n",
      "start epoch: 1\n",
      "end epoch: 1; CE: 56.3; Dice: 82.1\n",
      "start epoch: 2\n",
      "end epoch: 2; CE: 49.6; Dice: 81.2\n",
      "start epoch: 3\n",
      "end epoch: 3; CE: 46.0; Dice: 80.8\n",
      "Finished Training\n"
     ]
    }
   ],
   "source": [
    "model = FCN32s(pretrained_net=vgg_model, n_class=numDefectClasses+1).to(rundevice)\n",
    "optimizer = optim.SGD(model.parameters(), lr=5e-3, momentum=0.7)\n",
    "\n",
    "# To be increased to 12 for actual model training\n",
    "numEpochs = 3\n",
    "\n",
    "runModelTesting(rootModelName, model, optimizer, numEpochs, 'CE', 'CE', rundevice, lossDict)"
   ]
  },
  {
   "cell_type": "markdown",
   "metadata": {},
   "source": [
    "# Inference"
   ]
  },
  {
   "cell_type": "code",
   "execution_count": 26,
   "metadata": {},
   "outputs": [],
   "source": [
    "def mapClassIDColors(classID):\n",
    "    # color mapping to represent defects based on their class\n",
    "    \n",
    "    mR = 0\n",
    "    mG = 0\n",
    "    mB = 0\n",
    "    if classID==1:\n",
    "        # red\n",
    "        mR = 1\n",
    "        mG = 0\n",
    "        mB = 0\n",
    "    elif classID==2:\n",
    "        # green\n",
    "        mR = 0\n",
    "        mG = 1\n",
    "        mB = 0\n",
    "    elif classID==3:\n",
    "        # blue\n",
    "        mR = 0\n",
    "        mG = 0\n",
    "        mB = 1 \n",
    "    elif classID==4:\n",
    "        # yellow\n",
    "        mR = 1\n",
    "        mG = 1\n",
    "        mB = 0\n",
    "    return mR, mG, mB        "
   ]
  },
  {
   "cell_type": "code",
   "execution_count": 27,
   "metadata": {},
   "outputs": [],
   "source": [
    "def annotatedImageDefects(img, label_mask):\n",
    "    # color code defect pixels according to the classID of the defect\n",
    "    # returns a 256 x 1600 x 3 numpy array\n",
    "    img_new = np.copy(img)\n",
    "    \n",
    "    img_R = img_new[:,:,0]\n",
    "    img_G = img_new[:,:,1]\n",
    "    img_B = img_new[:,:,2]\n",
    "    \n",
    "    for i in range(H):\n",
    "        for j in range(W):\n",
    "            defectID = label_mask[i,j]\n",
    "            if defectID > 0:\n",
    "                mR, mG, mB = mapClassIDColors(defectID)\n",
    "                img_R[i,j] = mR\n",
    "                img_G[i,j] = mG\n",
    "                img_B[i,j] = mB\n",
    "\n",
    "    new_img = np.dstack((img_R, img_G, img_B))\n",
    "    return new_img"
   ]
  },
  {
   "cell_type": "code",
   "execution_count": 28,
   "metadata": {},
   "outputs": [],
   "source": [
    "def countLabels(pred_mask):\n",
    "    labCounts = [0 for i in range(numDefectClasses+1)]\n",
    "    for i in range(pred_mask.size(0)):\n",
    "        for j in range(pred_mask.size(1)):\n",
    "            labCounts[pred_mask[i,j]]+=1\n",
    "    return labCounts\n",
    "\n",
    "def maskPercentage(mask):\n",
    "    labCounts = countLabels(mask)\n",
    "    return np.sum(np.array(labCounts[1:]))/(H*W)"
   ]
  },
  {
   "cell_type": "code",
   "execution_count": 29,
   "metadata": {},
   "outputs": [],
   "source": [
    "def saveImage(arrayData, fileName):\n",
    "    im = Image.fromarray((arrayData * 255).astype(np.uint8))\n",
    "    im.save(fileName)"
   ]
  },
  {
   "cell_type": "code",
   "execution_count": 30,
   "metadata": {},
   "outputs": [],
   "source": [
    "def confusionMatrix(testLoader, model, rundevice):\n",
    "    confMat = np.zeros((numDefectClasses + 1, numDefectClasses + 1))\n",
    "    with torch.no_grad():\n",
    "        for data in testLoader:\n",
    "        #for i in range(len(testLoader)):\n",
    "            images, labels = data\n",
    "            #images, labels = testLoader[i]\n",
    "\n",
    "            images = images.to(rundevice)\n",
    "            labels = labels.to(rundevice)\n",
    "            outputs = model(images)\n",
    "\n",
    "            o = torch.argmax(outputs, dim = 1)\n",
    "            o = F.one_hot(o, num_classes=numDefectClasses+1)#.permute(0,3,1,2)\n",
    "            t = F.one_hot(labels, num_classes=numDefectClasses+1)#.permute(0,3,1,2)\n",
    "            \n",
    "            t = t.sum(2).sum(1)\n",
    "            t = (t>0)\n",
    "            actualNumDefectClasses = t.sum(1)\n",
    "            \n",
    "            o = o.sum(2).sum(1)\n",
    "            o = (o>0)\n",
    "            predictedNumDefectClasses = o.sum(1)\n",
    "                        \n",
    "            for k in range(labels.size(0)):\n",
    "                confMat[actualNumDefectClasses[k]-1,predictedNumDefectClasses[k]-1]+=1\n",
    "    return confMat\n"
   ]
  },
  {
   "cell_type": "code",
   "execution_count": 31,
   "metadata": {},
   "outputs": [],
   "source": [
    "def showConfusionMatrix(confMat, rootModelName, modelFile, cmapName=None, ):\n",
    "    myList = [i for i in range(5)]\n",
    "\n",
    "    fig = plt.figure(figsize=(10,10))\n",
    "    ax = fig.add_subplot(111)\n",
    "    cax = ax.matshow(confMat, cmap=cmapName)\n",
    "    fig.colorbar(cax)\n",
    "\n",
    "    ax.set_xticks(np.arange(len(myList)))\n",
    "    ax.set_yticks(np.arange(len(myList)))\n",
    "    ax.set_xticklabels(myList)\n",
    "    ax.set_yticklabels(myList)\n",
    "\n",
    "    for i in range(len(myList)):\n",
    "        for j in range(len(myList)):\n",
    "            text = ax.text(j, i, round(confMat[i, j],0),\n",
    "                            ha=\"center\", va=\"center\", color=\"w\")\n",
    "    plt.show()\n",
    "    fig.savefig(os.path.join(rootModelName, modelFile))"
   ]
  },
  {
   "cell_type": "code",
   "execution_count": 32,
   "metadata": {},
   "outputs": [],
   "source": [
    "img, gt_mask = train_ds[-2]\n",
    "img = img.to(rundevice)\n",
    "gt_mask = gt_mask.to(rundevice)"
   ]
  },
  {
   "cell_type": "code",
   "execution_count": 33,
   "metadata": {},
   "outputs": [],
   "source": [
    "img_batch = torch.zeros([1,3,H,W], device = rundevice)\n",
    "gt_mask_batch = torch.zeros([1,H,W], device = rundevice, dtype=gt_mask.dtype)\n",
    "img_batch[0] = img\n",
    "gt_mask_batch[0] = gt_mask\n",
    "plt_img =  np.ndarray((3, H, W))\n",
    "plt_img = img.cpu().data * normStd + normMean\n",
    "plt_img = np.transpose(plt_img, (1, 2, 0))\n"
   ]
  },
  {
   "cell_type": "code",
   "execution_count": 34,
   "metadata": {},
   "outputs": [
    {
     "data": {
      "text/plain": [
       "<matplotlib.image.AxesImage at 0x26e04ac8ac8>"
      ]
     },
     "execution_count": 34,
     "metadata": {},
     "output_type": "execute_result"
    },
    {
     "data": {
      "image/png": "[encoded data removed]",
      "text/plain": [
       "<Figure size 432x288 with 1 Axes>"
      ]
     },
     "metadata": {
      "needs_background": "light"
     },
     "output_type": "display_data"
    }
   ],
   "source": [
    "plt.imshow(plt_img)"
   ]
  },
  {
   "cell_type": "code",
   "execution_count": 35,
   "metadata": {},
   "outputs": [],
   "source": [
    "saveImage(plt_img.numpy(), os.path.join(rootModelName,'defect_image_initial.jpg'))"
   ]
  },
  {
   "cell_type": "markdown",
   "metadata": {},
   "source": [
    "# GROUND TRUTH"
   ]
  },
  {
   "cell_type": "code",
   "execution_count": 36,
   "metadata": {
    "scrolled": true
   },
   "outputs": [
    {
     "data": {
      "text/plain": [
       "<matplotlib.image.AxesImage at 0x26e077aefc8>"
      ]
     },
     "execution_count": 36,
     "metadata": {},
     "output_type": "execute_result"
    },
    {
     "data": {
      "image/png": "[encoded data removed]",
      "text/plain": [
       "<Figure size 432x288 with 1 Axes>"
      ]
     },
     "metadata": {
      "needs_background": "light"
     },
     "output_type": "display_data"
    }
   ],
   "source": [
    "true_defect_img = annotatedImageDefects(plt_img, gt_mask.to('cpu'))\n",
    "plt.imshow(true_defect_img)"
   ]
  },
  {
   "cell_type": "code",
   "execution_count": 37,
   "metadata": {},
   "outputs": [],
   "source": [
    "saveImage(true_defect_img, os.path.join(rootModelName, 'defect_image_ground_truth.jpg'))"
   ]
  },
  {
   "cell_type": "markdown",
   "metadata": {},
   "source": [
    "# Model"
   ]
  },
  {
   "cell_type": "code",
   "execution_count": 38,
   "metadata": {},
   "outputs": [
    {
     "data": {
      "text/plain": [
       "FCN32s(\n",
       "  (pretrained_net): VGGNet(\n",
       "    (features): Sequential(\n",
       "      (0): Conv2d(3, 64, kernel_size=(3, 3), stride=(1, 1), padding=(1, 1))\n",
       "      (1): ReLU(inplace=True)\n",
       "      (2): MaxPool2d(kernel_size=2, stride=2, padding=0, dilation=1, ceil_mode=False)\n",
       "      (3): Conv2d(64, 128, kernel_size=(3, 3), stride=(1, 1), padding=(1, 1))\n",
       "      (4): ReLU(inplace=True)\n",
       "      (5): MaxPool2d(kernel_size=2, stride=2, padding=0, dilation=1, ceil_mode=False)\n",
       "      (6): Conv2d(128, 256, kernel_size=(3, 3), stride=(1, 1), padding=(1, 1))\n",
       "      (7): ReLU(inplace=True)\n",
       "      (8): Conv2d(256, 256, kernel_size=(3, 3), stride=(1, 1), padding=(1, 1))\n",
       "      (9): ReLU(inplace=True)\n",
       "      (10): MaxPool2d(kernel_size=2, stride=2, padding=0, dilation=1, ceil_mode=False)\n",
       "      (11): Conv2d(256, 512, kernel_size=(3, 3), stride=(1, 1), padding=(1, 1))\n",
       "      (12): ReLU(inplace=True)\n",
       "      (13): Conv2d(512, 512, kernel_size=(3, 3), stride=(1, 1), padding=(1, 1))\n",
       "      (14): ReLU(inplace=True)\n",
       "      (15): MaxPool2d(kernel_size=2, stride=2, padding=0, dilation=1, ceil_mode=False)\n",
       "      (16): Conv2d(512, 512, kernel_size=(3, 3), stride=(1, 1), padding=(1, 1))\n",
       "      (17): ReLU(inplace=True)\n",
       "      (18): Conv2d(512, 512, kernel_size=(3, 3), stride=(1, 1), padding=(1, 1))\n",
       "      (19): ReLU(inplace=True)\n",
       "      (20): MaxPool2d(kernel_size=2, stride=2, padding=0, dilation=1, ceil_mode=False)\n",
       "    )\n",
       "    (avgpool): AdaptiveAvgPool2d(output_size=(7, 7))\n",
       "  )\n",
       "  (relu): ReLU(inplace=True)\n",
       "  (deconv1): ConvTranspose2d(512, 512, kernel_size=(3, 3), stride=(2, 2), padding=(1, 1), output_padding=(1, 1))\n",
       "  (bn1): BatchNorm2d(512, eps=1e-05, momentum=0.1, affine=True, track_running_stats=True)\n",
       "  (deconv2): ConvTranspose2d(512, 256, kernel_size=(3, 3), stride=(2, 2), padding=(1, 1), output_padding=(1, 1))\n",
       "  (bn2): BatchNorm2d(256, eps=1e-05, momentum=0.1, affine=True, track_running_stats=True)\n",
       "  (deconv3): ConvTranspose2d(256, 128, kernel_size=(3, 3), stride=(2, 2), padding=(1, 1), output_padding=(1, 1))\n",
       "  (bn3): BatchNorm2d(128, eps=1e-05, momentum=0.1, affine=True, track_running_stats=True)\n",
       "  (deconv4): ConvTranspose2d(128, 64, kernel_size=(3, 3), stride=(2, 2), padding=(1, 1), output_padding=(1, 1))\n",
       "  (bn4): BatchNorm2d(64, eps=1e-05, momentum=0.1, affine=True, track_running_stats=True)\n",
       "  (deconv5): ConvTranspose2d(64, 32, kernel_size=(3, 3), stride=(2, 2), padding=(1, 1), output_padding=(1, 1))\n",
       "  (bn5): BatchNorm2d(32, eps=1e-05, momentum=0.1, affine=True, track_running_stats=True)\n",
       "  (classifier): Conv2d(32, 5, kernel_size=(1, 1), stride=(1, 1))\n",
       ")"
      ]
     },
     "execution_count": 38,
     "metadata": {},
     "output_type": "execute_result"
    }
   ],
   "source": [
    "loss1Name = 'CE'\n",
    "loss2Name = 'CE'\n",
    "modelFile = rootModelName + '_' + loss1Name + '_' + loss2Name + '.pth'\n",
    "modelInfer = FCN32s(pretrained_net=vgg_model, n_class=numDefectClasses+1)\n",
    "modelInfer.load_state_dict(torch.load(os.path.join(rootModelName, modelFile)))\n",
    "modelInfer.to(rundevice)"
   ]
  },
  {
   "cell_type": "code",
   "execution_count": 39,
   "metadata": {},
   "outputs": [
    {
     "name": "stdout",
     "output_type": "stream",
     "text": [
      "global accuracy: 2.4\n"
     ]
    }
   ],
   "source": [
    "accuracy = lossCalculator(test_loader, modelInfer, dice_accuracy_batch_no_bg, rundevice)\n",
    "print('global accuracy: {:.1f}'.format(accuracy))"
   ]
  },
  {
   "cell_type": "code",
   "execution_count": 40,
   "metadata": {},
   "outputs": [
    {
     "data": {
      "image/png": "[encoded data removed]",
      "text/plain": [
       "<Figure size 720x720 with 2 Axes>"
      ]
     },
     "metadata": {
      "needs_background": "light"
     },
     "output_type": "display_data"
    }
   ],
   "source": [
    "confMat = confusionMatrix(test_loader, modelInfer, rundevice)\n",
    "showConfusionMatrix(confMat, rootModelName, rootModelName + '_CE_confMat.jpg')"
   ]
  },
  {
   "cell_type": "code",
   "execution_count": 41,
   "metadata": {
    "scrolled": true
   },
   "outputs": [
    {
     "data": {
      "text/plain": [
       "<matplotlib.image.AxesImage at 0x26e04c0b1c8>"
      ]
     },
     "execution_count": 41,
     "metadata": {},
     "output_type": "execute_result"
    },
    {
     "data": {
      "image/png": "[encoded data removed]",
      "text/plain": [
       "<Figure size 432x288 with 1 Axes>"
      ]
     },
     "metadata": {
      "needs_background": "light"
     },
     "output_type": "display_data"
    }
   ],
   "source": [
    "pred_mask_raw_batch = modelInfer(img_batch)\n",
    "pred_mask = torch.max(pred_mask_raw_batch[0], 0)[1]\n",
    "pred_defect_img = annotatedImageDefects(plt_img, pred_mask.to('cpu'))\n",
    "plt.imshow(pred_defect_img) "
   ]
  },
  {
   "cell_type": "code",
   "execution_count": 42,
   "metadata": {},
   "outputs": [
    {
     "name": "stdout",
     "output_type": "stream",
     "text": [
      "True mask: [406387, 0, 1061, 2152, 0]\n",
      "Predicted mask: [402046, 263, 249, 5463, 1579]\n",
      "Mask area: 0.8\n"
     ]
    }
   ],
   "source": [
    "print('True mask: {}'.format(countLabels(gt_mask.to('cpu'))))\n",
    "print('Predicted mask: {}'.format(countLabels(pred_mask.to('cpu'))))\n",
    "print('Mask area: {:.1f}'.format(100 * maskPercentage(gt_mask.to('cpu'))))"
   ]
  },
  {
   "cell_type": "code",
   "execution_count": 43,
   "metadata": {},
   "outputs": [],
   "source": [
    "saveImage(pred_defect_img, os.path.join(rootModelName,'defect_image_CE.jpg'))"
   ]
  },
  {
   "cell_type": "code",
   "execution_count": 44,
   "metadata": {},
   "outputs": [
    {
     "name": "stdout",
     "output_type": "stream",
     "text": [
      "validation accuracy: 2.1\n"
     ]
    }
   ],
   "source": [
    "validationaccuracy = lossCalculator(validation_loader, modelInfer, dice_accuracy_batch_no_bg, rundevice)\n",
    "print('validation accuracy: {:.1f}'.format(validationaccuracy))"
   ]
  },
  {
   "cell_type": "code",
   "execution_count": 45,
   "metadata": {},
   "outputs": [],
   "source": [
    "def loadLossData(modelName, loss1Name, loss2Name):\n",
    "    modelFile = modelName + '_' + loss1Name + '_' + loss2Name + '.csv'\n",
    "    CE_histo = []\n",
    "    Dice_histo = []\n",
    "    f = open(os.path.join(modelName, modelFile), 'r')\n",
    "    next(f)\n",
    "    reader = csv.reader(f)\n",
    "    for row in reader:\n",
    "        CE_histo.append(float(row[1]))\n",
    "        Dice_histo.append(float(row[2]))\n",
    "    return np.array(CE_histo), np.array(Dice_histo)"
   ]
  },
  {
   "cell_type": "code",
   "execution_count": 46,
   "metadata": {},
   "outputs": [],
   "source": [
    "modelNormA_CE, modelNormA_Dice = loadLossData('test_norm', 'CE', 'CE')"
   ]
  },
  {
   "cell_type": "code",
   "execution_count": 47,
   "metadata": {},
   "outputs": [
    {
     "data": {
      "image/png": "[encoded data removed]",
      "text/plain": [
       "<Figure size 1080x216 with 2 Axes>"
      ]
     },
     "metadata": {
      "needs_background": "light"
     },
     "output_type": "display_data"
    }
   ],
   "source": [
    "fig, ax = plt.subplots(1,2, figsize = (15,3))\n",
    "\n",
    "ax[0].plot(modelNormA_CE, label='CE')\n",
    "ax[0].set_xlabel('epoch')\n",
    "ax[0].set_ylabel('Cross Entropy error')\n",
    "\n",
    "ax[1].plot(modelNormA_Dice, label='CE')\n",
    "ax[1].set_xlabel('epoch')\n",
    "ax[1].set_ylabel('Smooth Dice error')\n",
    "\n",
    "ax[0].legend()\n",
    "ax[1].legend()\n",
    "\n",
    "fig.savefig('ErrorsComparison.jpg')"
   ]
  },
  {
   "cell_type": "code",
   "execution_count": 48,
   "metadata": {},
   "outputs": [
    {
     "data": {
      "image/png": "[encoded data removed]",
      "text/plain": [
       "<Figure size 432x288 with 1 Axes>"
      ]
     },
     "metadata": {
      "needs_background": "light"
     },
     "output_type": "display_data"
    }
   ],
   "source": [
    "plt.plot(modelNormA_CE, label='Cross Entropy Loss')\n",
    "plt.xlabel('epoch')\n",
    "plt.ylabel('error')\n",
    "plt.savefig('CrossEntropyError_CEModel.jpg')"
   ]
  },
  {
   "cell_type": "code",
   "execution_count": null,
   "metadata": {},
   "outputs": [],
   "source": []
  }
 ],
 "metadata": {
  "kernelspec": {
   "display_name": "pyTorchve",
   "language": "python",
   "name": "pytorchve"
  },
  "language_info": {
   "codemirror_mode": {
    "name": "ipython",
    "version": 3
   },
   "file_extension": ".py",
   "mimetype": "text/x-python",
   "name": "python",
   "nbconvert_exporter": "python",
   "pygments_lexer": "ipython3",
   "version": "3.7.4"
  }
 },
 "nbformat": 4,
 "nbformat_minor": 2
}
